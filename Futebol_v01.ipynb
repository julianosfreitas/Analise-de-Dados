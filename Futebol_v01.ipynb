{
  "nbformat": 4,
  "nbformat_minor": 0,
  "metadata": {
    "colab": {
      "provenance": [],
      "authorship_tag": "ABX9TyMRgZkrERNgHY8OmDfQe+M/",
      "include_colab_link": true
    },
    "kernelspec": {
      "name": "python3",
      "display_name": "Python 3"
    },
    "language_info": {
      "name": "python"
    }
  },
  "cells": [
    {
      "cell_type": "markdown",
      "metadata": {
        "id": "view-in-github",
        "colab_type": "text"
      },
      "source": [
        "<a href=\"https://colab.research.google.com/github/julianosfreitas/Analise-de-Dados/blob/main/Futebol_v01.ipynb\" target=\"_parent\"><img src=\"https://colab.research.google.com/assets/colab-badge.svg\" alt=\"Open In Colab\"/></a>"
      ]
    },
    {
      "cell_type": "markdown",
      "source": [
        "# ⚽NEYMAR STATS"
      ],
      "metadata": {
        "id": "UPoT2DWOEUAl"
      }
    },
    {
      "cell_type": "markdown",
      "source": [
        "## 🩸BEGIN"
      ],
      "metadata": {
        "id": "DUFgtryKsFaF"
      }
    },
    {
      "cell_type": "code",
      "execution_count": null,
      "metadata": {
        "colab": {
          "base_uri": "https://localhost:8080/"
        },
        "id": "oxpD_obG29uE",
        "outputId": "c3d966eb-f21b-4c79-f853-82eeeee2e5af"
      },
      "outputs": [
        {
          "output_type": "stream",
          "name": "stdout",
          "text": [
            "Hello\n"
          ]
        }
      ],
      "source": [
        "print (\"Hello\")"
      ]
    },
    {
      "cell_type": "code",
      "source": [
        "nome = \"Neymar\""
      ],
      "metadata": {
        "id": "l1_so-NL3Dv6"
      },
      "execution_count": null,
      "outputs": []
    },
    {
      "cell_type": "code",
      "source": [
        "gols = 20\n",
        "assistencias = 30"
      ],
      "metadata": {
        "id": "54nM61ko3Mv2"
      },
      "execution_count": null,
      "outputs": []
    },
    {
      "cell_type": "code",
      "source": [
        "gols"
      ],
      "metadata": {
        "colab": {
          "base_uri": "https://localhost:8080/"
        },
        "id": "UOO1PJMT9jN2",
        "outputId": "2ce5474e-0d96-46e6-c1da-af2edd215aae"
      },
      "execution_count": null,
      "outputs": [
        {
          "output_type": "execute_result",
          "data": {
            "text/plain": [
              "20"
            ]
          },
          "metadata": {},
          "execution_count": 98
        }
      ]
    },
    {
      "cell_type": "code",
      "source": [
        "assistencias"
      ],
      "metadata": {
        "colab": {
          "base_uri": "https://localhost:8080/"
        },
        "id": "lXEu0z-c9j9q",
        "outputId": "f7ad474e-6b08-457f-a2f9-c1a356a2e35d"
      },
      "execution_count": null,
      "outputs": [
        {
          "output_type": "execute_result",
          "data": {
            "text/plain": [
              "30"
            ]
          },
          "metadata": {},
          "execution_count": 99
        }
      ]
    },
    {
      "cell_type": "code",
      "source": [
        "media = gols / assistencias"
      ],
      "metadata": {
        "id": "kA0gQqun9kg6"
      },
      "execution_count": null,
      "outputs": []
    },
    {
      "cell_type": "code",
      "source": [
        "print(nome, \"tem uma media de gols por partida de\", media)"
      ],
      "metadata": {
        "colab": {
          "base_uri": "https://localhost:8080/"
        },
        "id": "a2tuqJBu9l3v",
        "outputId": "cee9d603-b127-4b14-b17d-39ba3867c057"
      },
      "execution_count": null,
      "outputs": [
        {
          "output_type": "stream",
          "name": "stdout",
          "text": [
            "Neymar tem uma media de gols por partida de 0.6666666666666666\n"
          ]
        }
      ]
    },
    {
      "cell_type": "code",
      "source": [
        "type(nome)"
      ],
      "metadata": {
        "colab": {
          "base_uri": "https://localhost:8080/"
        },
        "id": "MA5zdDVc-Sil",
        "outputId": "06958d1f-c1c5-499b-d7ac-917d5467cb52"
      },
      "execution_count": null,
      "outputs": [
        {
          "output_type": "execute_result",
          "data": {
            "text/plain": [
              "str"
            ]
          },
          "metadata": {},
          "execution_count": 102
        }
      ]
    },
    {
      "cell_type": "markdown",
      "source": [
        "## 🎫 IF & ELSE IF"
      ],
      "metadata": {
        "id": "8_keNq9SEs6T"
      }
    },
    {
      "cell_type": "code",
      "source": [
        "qtd_jogadores = 30\n",
        "\n",
        "if qtd_jogadores >= 25:\n",
        "  print(\"Quantidade de jogadores permitida\")"
      ],
      "metadata": {
        "colab": {
          "base_uri": "https://localhost:8080/"
        },
        "id": "XwK4dsMEEzHX",
        "outputId": "9ff615e3-8c61-4748-e49e-5a5077340e92"
      },
      "execution_count": 149,
      "outputs": [
        {
          "output_type": "stream",
          "name": "stdout",
          "text": [
            "Quantidade de jogadores permitida\n"
          ]
        }
      ]
    },
    {
      "cell_type": "code",
      "source": [
        "qtd_jogadores = 42\n",
        "\n",
        "if qtd_jogadores > 40:\n",
        "  print(\"Quantidade de jogardores maior que a permitida\")\n",
        "elif qtd_jogadores >=25:\n",
        "  print(\"Quantidade de jogadores permitida\")"
      ],
      "metadata": {
        "colab": {
          "base_uri": "https://localhost:8080/"
        },
        "id": "OtUSNI1cFAiR",
        "outputId": "47a531fe-c6c1-4c41-bf43-aecebe60dcaf"
      },
      "execution_count": 150,
      "outputs": [
        {
          "output_type": "stream",
          "name": "stdout",
          "text": [
            "Quantidade de jogardores maior que a permitida\n"
          ]
        }
      ]
    },
    {
      "cell_type": "code",
      "source": [
        "qtd_jogadores = 18\n",
        "\n",
        "if qtd_jogadores > 40:\n",
        "  print(\"Quantidade de jogardores maior que a permitida\")\n",
        "elif qtd_jogadores >=25:\n",
        "  print(\"Quantidade de jogadores permitida\")\n",
        "else:\n",
        "  print(\"Quantidade de jogadores menor que a necessária\")"
      ],
      "metadata": {
        "colab": {
          "base_uri": "https://localhost:8080/"
        },
        "id": "iOSTp86_FlUd",
        "outputId": "8ef5554d-5237-4024-c40e-c96dac54a3df"
      },
      "execution_count": 151,
      "outputs": [
        {
          "output_type": "stream",
          "name": "stdout",
          "text": [
            "Quantidade de jogadores menor que a necessária\n"
          ]
        }
      ]
    },
    {
      "cell_type": "code",
      "source": [
        "qtd_gols = 15\n",
        "qtd_jogos = 15\n",
        "\n",
        "if qtd_gols > 10:\n",
        "  print(\"Mais de 10 gols\")\n",
        "  if qtd_jogos >=20:\n",
        "    print(\"Mais de 20 jogos!\")\n",
        "  else:\n",
        "    print(\"Menos de 20 jogos!\")\n",
        "else:\n",
        "  print(\"Menos de 10 gols!\")"
      ],
      "metadata": {
        "colab": {
          "base_uri": "https://localhost:8080/"
        },
        "id": "E0UlJIZwGYcf",
        "outputId": "d2dc5ece-1bc3-48fc-a70b-491020ace867"
      },
      "execution_count": 152,
      "outputs": [
        {
          "output_type": "stream",
          "name": "stdout",
          "text": [
            "Mais de 10 gols\n",
            "Menos de 20 jogos!\n"
          ]
        }
      ]
    },
    {
      "cell_type": "markdown",
      "source": [
        "##🧾 LISTA"
      ],
      "metadata": {
        "id": "J4aXavRTITzJ"
      }
    },
    {
      "cell_type": "code",
      "source": [
        "lista_jogadores = [\"Neymar\", \"Rodrygo\", \"Vini\", \"Roberto Carlos\", \"Jesus\", \"Savinho\"]"
      ],
      "metadata": {
        "id": "4kub8_7SIglZ"
      },
      "execution_count": null,
      "outputs": []
    },
    {
      "cell_type": "code",
      "source": [
        "# Buscando que está na posição 1 dentro da lista.\n",
        "lista_jogadores [1]"
      ],
      "metadata": {
        "colab": {
          "base_uri": "https://localhost:8080/",
          "height": 36
        },
        "id": "wClo7A5_J2Dp",
        "outputId": "5fc84812-973b-44c2-8b77-c77f37921e4a"
      },
      "execution_count": null,
      "outputs": [
        {
          "output_type": "execute_result",
          "data": {
            "text/plain": [
              "'Rodrygo'"
            ],
            "application/vnd.google.colaboratory.intrinsic+json": {
              "type": "string"
            }
          },
          "metadata": {},
          "execution_count": 108
        }
      ]
    },
    {
      "cell_type": "code",
      "source": [
        "# Descobrir qual lugar da  lista está o (\"Vini\")\n",
        "lista_jogadores.index(\"Vini\")"
      ],
      "metadata": {
        "colab": {
          "base_uri": "https://localhost:8080/"
        },
        "id": "hL2ZhBW1KFIk",
        "outputId": "e6f64329-5b81-4b8c-d4bc-61b9668314f8"
      },
      "execution_count": null,
      "outputs": [
        {
          "output_type": "execute_result",
          "data": {
            "text/plain": [
              "2"
            ]
          },
          "metadata": {},
          "execution_count": 109
        }
      ]
    },
    {
      "cell_type": "code",
      "source": [
        "# Append serve para adicionar um item no fim da lista, o que colocar dentro da condição vai ser adicionado na lista (\"Vini\") ou (\"Juliano\")\n",
        "lista_jogadores.append(\"Juliano\")\n",
        "lista_jogadores"
      ],
      "metadata": {
        "colab": {
          "base_uri": "https://localhost:8080/"
        },
        "id": "cfh2B4EzKKR6",
        "outputId": "0c4f3b20-fb1c-4990-c88f-de090da9a888"
      },
      "execution_count": null,
      "outputs": [
        {
          "output_type": "execute_result",
          "data": {
            "text/plain": [
              "['Neymar', 'Rodrygo', 'Vini', 'Roberto Carlos', 'Jesus', 'Savinho', 'Juliano']"
            ]
          },
          "metadata": {},
          "execution_count": 110
        }
      ]
    },
    {
      "cell_type": "code",
      "source": [
        "# Pop serve para tirar a ultima \"pessoa\" adicionada na lista.\n",
        "lista_jogadores.pop()"
      ],
      "metadata": {
        "colab": {
          "base_uri": "https://localhost:8080/",
          "height": 36
        },
        "id": "Iau6wE78MF2y",
        "outputId": "d6727b58-fc83-41db-bf45-d12250a4ff86"
      },
      "execution_count": null,
      "outputs": [
        {
          "output_type": "execute_result",
          "data": {
            "text/plain": [
              "'Juliano'"
            ],
            "application/vnd.google.colaboratory.intrinsic+json": {
              "type": "string"
            }
          },
          "metadata": {},
          "execution_count": 111
        }
      ]
    },
    {
      "cell_type": "code",
      "source": [
        "lista_jogadores"
      ],
      "metadata": {
        "colab": {
          "base_uri": "https://localhost:8080/"
        },
        "id": "629NJyNpMKHu",
        "outputId": "7b7527b1-a743-4394-ee9a-df7f4aba4df1"
      },
      "execution_count": null,
      "outputs": [
        {
          "output_type": "execute_result",
          "data": {
            "text/plain": [
              "['Neymar', 'Rodrygo', 'Vini', 'Roberto Carlos', 'Jesus', 'Savinho']"
            ]
          },
          "metadata": {},
          "execution_count": 112
        }
      ]
    },
    {
      "cell_type": "code",
      "source": [
        "# Por mais que eu tenha mais do mesmo, se eu chamar o .index, ele sempre vai me dizer o primeiro da lista.\n",
        "lista_jogadores.index(\"Savinho\")"
      ],
      "metadata": {
        "colab": {
          "base_uri": "https://localhost:8080/"
        },
        "id": "VDtfvU1UM4zC",
        "outputId": "b11c6de3-ae18-47a3-bb2d-8a4a166d2be0"
      },
      "execution_count": null,
      "outputs": [
        {
          "output_type": "execute_result",
          "data": {
            "text/plain": [
              "5"
            ]
          },
          "metadata": {},
          "execution_count": 113
        }
      ]
    },
    {
      "cell_type": "code",
      "source": [
        "# Pop com o indice dentro dele, retira a \"pessoa\" na posição em questão da lista.\n",
        "# lista_jogadores.pop(6)"
      ],
      "metadata": {
        "colab": {
          "base_uri": "https://localhost:8080/",
          "height": 165
        },
        "id": "clDLOkPEMkGh",
        "outputId": "3fd63bd3-0fb6-4e26-a291-320c45ae78b6"
      },
      "execution_count": null,
      "outputs": [
        {
          "output_type": "error",
          "ename": "IndexError",
          "evalue": "pop index out of range",
          "traceback": [
            "\u001b[0;31m---------------------------------------------------------------------------\u001b[0m",
            "\u001b[0;31mIndexError\u001b[0m                                Traceback (most recent call last)",
            "\u001b[0;32m<ipython-input-114-6fd3747e95e3>\u001b[0m in \u001b[0;36m<cell line: 2>\u001b[0;34m()\u001b[0m\n\u001b[1;32m      1\u001b[0m \u001b[0;31m# Pop com o indice dentro dele, retira a \"pessoa\" na posição em questão da lista.\u001b[0m\u001b[0;34m\u001b[0m\u001b[0;34m\u001b[0m\u001b[0m\n\u001b[0;32m----> 2\u001b[0;31m \u001b[0mlista_jogadores\u001b[0m\u001b[0;34m.\u001b[0m\u001b[0mpop\u001b[0m\u001b[0;34m(\u001b[0m\u001b[0;36m6\u001b[0m\u001b[0;34m)\u001b[0m\u001b[0;34m\u001b[0m\u001b[0;34m\u001b[0m\u001b[0m\n\u001b[0m",
            "\u001b[0;31mIndexError\u001b[0m: pop index out of range"
          ]
        }
      ]
    },
    {
      "cell_type": "code",
      "source": [
        "lista_jogadores.insert(1, \"Casemiro\")"
      ],
      "metadata": {
        "id": "bt6-9tt9OKJ-"
      },
      "execution_count": null,
      "outputs": []
    },
    {
      "cell_type": "code",
      "source": [
        "lista_jogadores.insert(2, \"Vini\")"
      ],
      "metadata": {
        "id": "rwuh5Lv5R2bI"
      },
      "execution_count": null,
      "outputs": []
    },
    {
      "cell_type": "code",
      "source": [
        "lista_jogadores"
      ],
      "metadata": {
        "colab": {
          "base_uri": "https://localhost:8080/"
        },
        "id": "01lm2E70OqY0",
        "outputId": "75fb058c-d4b1-43e3-e202-de675827c1a2"
      },
      "execution_count": null,
      "outputs": [
        {
          "output_type": "execute_result",
          "data": {
            "text/plain": [
              "['Neymar',\n",
              " 'Casemiro',\n",
              " 'Vini',\n",
              " 'Rodrygo',\n",
              " 'Vini',\n",
              " 'Roberto Carlos',\n",
              " 'Jesus',\n",
              " 'Savinho']"
            ]
          },
          "metadata": {},
          "execution_count": 117
        }
      ]
    },
    {
      "cell_type": "code",
      "source": [
        "lista_jogadores.pop(4)"
      ],
      "metadata": {
        "colab": {
          "base_uri": "https://localhost:8080/",
          "height": 36
        },
        "id": "9CgQyBzfR_Ba",
        "outputId": "fb1f21ed-5fa3-4775-8e27-9da3bb4965a2"
      },
      "execution_count": null,
      "outputs": [
        {
          "output_type": "execute_result",
          "data": {
            "text/plain": [
              "'Vini'"
            ],
            "application/vnd.google.colaboratory.intrinsic+json": {
              "type": "string"
            }
          },
          "metadata": {},
          "execution_count": 118
        }
      ]
    },
    {
      "cell_type": "code",
      "source": [
        "lista_jogadores_e_numeros = [10, \"Neymar\", 9, \"Jesus\"]"
      ],
      "metadata": {
        "id": "sjWtTCjlJbYk"
      },
      "execution_count": null,
      "outputs": []
    },
    {
      "cell_type": "code",
      "source": [
        "lista_jogadores_e_numeros[1]"
      ],
      "metadata": {
        "colab": {
          "base_uri": "https://localhost:8080/",
          "height": 36
        },
        "id": "ora2edz9JwCp",
        "outputId": "2a4451e4-ee6c-4683-d812-2a2ade3c8da5"
      },
      "execution_count": null,
      "outputs": [
        {
          "output_type": "execute_result",
          "data": {
            "text/plain": [
              "'Neymar'"
            ],
            "application/vnd.google.colaboratory.intrinsic+json": {
              "type": "string"
            }
          },
          "metadata": {},
          "execution_count": 120
        }
      ]
    },
    {
      "cell_type": "markdown",
      "source": [
        "## ⚙️ESTRUTURA DE REPETIÇÃO"
      ],
      "metadata": {
        "id": "e6ANJ5hxbN1d"
      }
    },
    {
      "cell_type": "code",
      "source": [
        "# WHILE\n",
        "\n",
        "contador = 1\n",
        "while contador < 10:\n",
        "  print(contador)\n",
        "  contador += 1"
      ],
      "metadata": {
        "colab": {
          "base_uri": "https://localhost:8080/"
        },
        "id": "6B_hySxScPNq",
        "outputId": "779c4086-c966-46e4-b5d0-bd890b62e49c"
      },
      "execution_count": null,
      "outputs": [
        {
          "output_type": "stream",
          "name": "stdout",
          "text": [
            "1\n",
            "2\n",
            "3\n",
            "4\n",
            "5\n",
            "6\n",
            "7\n",
            "8\n",
            "9\n"
          ]
        }
      ]
    },
    {
      "cell_type": "code",
      "source": [
        "# FOR (iteradores)\n",
        "\n",
        "for jogador in lista_jogadores:\n",
        "  print(f\"Jogador: {jogador}\")"
      ],
      "metadata": {
        "colab": {
          "base_uri": "https://localhost:8080/"
        },
        "id": "gBpAJ93CdMhN",
        "outputId": "175b7757-0504-4285-a26b-3932f2a8666a"
      },
      "execution_count": 132,
      "outputs": [
        {
          "output_type": "stream",
          "name": "stdout",
          "text": [
            "Jogador: Neymar\n",
            "Jogador: Casemiro\n",
            "Jogador: Vini\n",
            "Jogador: Rodrygo\n",
            "Jogador: Roberto Carlos\n",
            "Jogador: Jesus\n",
            "Jogador: Savinho\n"
          ]
        }
      ]
    },
    {
      "cell_type": "code",
      "source": [
        "# FOR\n",
        "\n",
        "for n in range(10):\n",
        "  print(n)"
      ],
      "metadata": {
        "id": "55dIoi91dn9M",
        "colab": {
          "base_uri": "https://localhost:8080/"
        },
        "outputId": "9c4e5478-1053-4e58-92fd-0175426470d0"
      },
      "execution_count": 133,
      "outputs": [
        {
          "output_type": "stream",
          "name": "stdout",
          "text": [
            "0\n",
            "1\n",
            "2\n",
            "3\n",
            "4\n",
            "5\n",
            "6\n",
            "7\n",
            "8\n",
            "9\n"
          ]
        }
      ]
    },
    {
      "cell_type": "markdown",
      "source": [
        "## 📌 FUNÇÕES"
      ],
      "metadata": {
        "id": "ndWfyGTJmyl5"
      }
    },
    {
      "cell_type": "code",
      "source": [
        "def verifica_paridade(numero):\n",
        "  if numero % 2 == 0:\n",
        "    print(f\"O número {numero} é par\")\n",
        "  else:\n",
        "    print(f\"O número {numero} é impar\")"
      ],
      "metadata": {
        "id": "K6UwIXT6nIOX"
      },
      "execution_count": 153,
      "outputs": []
    },
    {
      "cell_type": "code",
      "source": [
        "verifica_paridade(15)"
      ],
      "metadata": {
        "colab": {
          "base_uri": "https://localhost:8080/"
        },
        "id": "Tc4AoppOnrUB",
        "outputId": "5ab19322-befb-4977-d654-26f4fa57afad"
      },
      "execution_count": 135,
      "outputs": [
        {
          "output_type": "stream",
          "name": "stdout",
          "text": [
            "O número 15 é impar\n"
          ]
        }
      ]
    },
    {
      "cell_type": "code",
      "source": [
        "verifica_paridade(28)"
      ],
      "metadata": {
        "colab": {
          "base_uri": "https://localhost:8080/"
        },
        "id": "A9xrNHyKnugC",
        "outputId": "8668aba3-d361-4cc7-bfb4-0e0ac0e3301c"
      },
      "execution_count": 136,
      "outputs": [
        {
          "output_type": "stream",
          "name": "stdout",
          "text": [
            "O número 28 é par\n"
          ]
        }
      ]
    },
    {
      "cell_type": "code",
      "source": [
        "def qtd_jogadores_equipe(equipe):\n",
        "\n",
        "  qtd_jogadores = len(equipe)\n",
        "  print(f\"Quantidade de jogadores: {qtd_jogadores}\")\n",
        "\n",
        "  if qtd_jogadores > 23:\n",
        "    print(\"Quantidade de jogadores acima do permitido\")\n",
        "  elif qtd_jogadores >=20:\n",
        "    print(\"Quantidade de jogadores permitido\")\n",
        "  else:\n",
        "    print(\"Quantidade de jogadores menor do que a necessária\")"
      ],
      "metadata": {
        "id": "RDEA3kCJnxJH"
      },
      "execution_count": 142,
      "outputs": []
    },
    {
      "cell_type": "code",
      "source": [
        "jogadores = [\"Dia\", \"Rogerio Ceni\", \"Julio Cesar\", \"Cafu\", \"Lucio\", \"Juan\", \"Roberto Carlos\", \"Cicinho\", \"Luisao\", \"Cris\", \"Gilberto\", \"Emerson\", \"Kaká\", \"Ronaldinho Gaucho\", \"Zé Roberto\", \"Gilberto Silva\", \"Mineiro\", \"Juninho Pernambucano\", \"Ricardinho\", \"Adriano\", \"Ronaldo\", \"Fred\", \"Robinho\" ]"
      ],
      "metadata": {
        "id": "tRABVpA4oUhK"
      },
      "execution_count": 147,
      "outputs": []
    },
    {
      "cell_type": "code",
      "source": [
        "qtd_jogadores_equipe(jogadores)"
      ],
      "metadata": {
        "colab": {
          "base_uri": "https://localhost:8080/"
        },
        "id": "OzjMLyNxrY5m",
        "outputId": "113959a9-9bc2-456f-c51c-0e7bfb35c946"
      },
      "execution_count": 148,
      "outputs": [
        {
          "output_type": "stream",
          "name": "stdout",
          "text": [
            "Quantidade de jogadores: 23\n",
            "Quantidade de jogadores permitido\n"
          ]
        }
      ]
    },
    {
      "cell_type": "code",
      "source": [],
      "metadata": {
        "id": "1HdYRS1wrcWn"
      },
      "execution_count": null,
      "outputs": []
    }
  ]
}