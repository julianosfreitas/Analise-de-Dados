{
  "nbformat": 4,
  "nbformat_minor": 0,
  "metadata": {
    "colab": {
      "provenance": [],
      "authorship_tag": "ABX9TyPeVPYoNQ5XtO4YJP7LzSSG",
      "include_colab_link": true
    },
    "kernelspec": {
      "name": "python3",
      "display_name": "Python 3"
    },
    "language_info": {
      "name": "python"
    }
  },
  "cells": [
    {
      "cell_type": "markdown",
      "metadata": {
        "id": "view-in-github",
        "colab_type": "text"
      },
      "source": [
        "<a href=\"https://colab.research.google.com/github/julianosfreitas/Analise-de-Dados/blob/main/Projeto%20ONG%20Portal%2061.ipynb\" target=\"_parent\"><img src=\"https://colab.research.google.com/assets/colab-badge.svg\" alt=\"Open In Colab\"/></a>"
      ]
    },
    {
      "cell_type": "markdown",
      "source": [
        "# HUGO ⚽"
      ],
      "metadata": {
        "id": "vCyIGSLwtlnV"
      }
    },
    {
      "cell_type": "code",
      "source": [
        "jogador = \"Rodrygo\"\n",
        "gols = 34\n",
        "assistencia = 30\n",
        "participacao_em_gols = gols + assistencia\n",
        "\n",
        "print(jogador, \"fez \", gols, \"gols e \", assistencia, \"assistências\")"
      ],
      "metadata": {
        "colab": {
          "base_uri": "https://localhost:8080/"
        },
        "id": "AqWVF9EvtN75",
        "outputId": "fa27487f-da8f-47d2-8a52-3be2da6118f0"
      },
      "execution_count": 27,
      "outputs": [
        {
          "output_type": "stream",
          "name": "stdout",
          "text": [
            "Rodrygo fez  34 gols e  30 assistências\n"
          ]
        }
      ]
    },
    {
      "cell_type": "code",
      "source": [],
      "metadata": {
        "id": "qzrgjemP3w9d"
      },
      "execution_count": null,
      "outputs": []
    },
    {
      "cell_type": "code",
      "source": [],
      "metadata": {
        "id": "gIG30GBp3yGc"
      },
      "execution_count": null,
      "outputs": []
    },
    {
      "cell_type": "code",
      "source": [],
      "metadata": {
        "id": "os9XcXSg3ycm"
      },
      "execution_count": null,
      "outputs": []
    },
    {
      "cell_type": "markdown",
      "source": [
        "# LISÂNIA ✨"
      ],
      "metadata": {
        "id": "kowPMEUqtwaS"
      }
    },
    {
      "cell_type": "code",
      "source": [
        "materia1 = \" ingles \"\n",
        "materia2 = \"portugues\"\n",
        "materias = materia1 + materia2\n",
        "\n",
        "materias"
      ],
      "metadata": {
        "colab": {
          "base_uri": "https://localhost:8080/",
          "height": 35
        },
        "id": "LCCZQTr4txON",
        "outputId": "83445284-87c8-46e8-a22c-ae72a03bffcf"
      },
      "execution_count": 15,
      "outputs": [
        {
          "output_type": "execute_result",
          "data": {
            "text/plain": [
              "' ingles portugues'"
            ],
            "application/vnd.google.colaboratory.intrinsic+json": {
              "type": "string"
            }
          },
          "metadata": {},
          "execution_count": 15
        }
      ]
    },
    {
      "cell_type": "markdown",
      "source": [
        "# MAYSA 🐴"
      ],
      "metadata": {
        "id": "0mkMna5Utxz_"
      }
    },
    {
      "cell_type": "code",
      "source": [
        "filme1 = \"my little pony \"\n",
        "filme2 = \"barbie\"\n",
        "filmes = filme1 + filme2\n",
        "\n",
        "filmes"
      ],
      "metadata": {
        "colab": {
          "base_uri": "https://localhost:8080/",
          "height": 35
        },
        "id": "p6QEoKamtyKj",
        "outputId": "5e6f745d-41a1-4feb-b6cb-86ea10bb11c9"
      },
      "execution_count": 11,
      "outputs": [
        {
          "output_type": "execute_result",
          "data": {
            "text/plain": [
              "'my little pony barbie'"
            ],
            "application/vnd.google.colaboratory.intrinsic+json": {
              "type": "string"
            }
          },
          "metadata": {},
          "execution_count": 11
        }
      ]
    }
  ]
}